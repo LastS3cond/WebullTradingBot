{
 "cells": [
  {
   "cell_type": "code",
   "execution_count": 54,
   "metadata": {},
   "outputs": [],
   "source": [
    "from webull import paper_webull,webull\n",
    "from dotenv import load_dotenv\n",
    "import os\n",
    "import time\n",
    "from datetime import date\n",
    "import math\n",
    "import requests"
   ]
  },
  {
   "cell_type": "code",
   "execution_count": 55,
   "metadata": {},
   "outputs": [],
   "source": [
    "def loginWebull(paper = True):\n",
    "    # Determine paper vs real trading\n",
    "    if paper:\n",
    "        wb = paper_webull()\n",
    "    else:\n",
    "        wb = webull()\n",
    "\n",
    "    # Get environment variables and log in\n",
    "    wb._set_did = os.getenv(\"DID\")\n",
    "    wb._access_token = os.getenv(\"ACCESS_TOKEN\")\n",
    "    wb.uuid = os.getenv(\"UUID\")\n",
    "    login_result = wb.login(os.getenv(\"LOGIN\"),os.getenv(\"PASSWORD\"), \"Jaydon's Laptop\", save_token=True)\n",
    "\n",
    "    # Check that log in was successful\n",
    "    if wb.is_logged_in():\n",
    "        account_id = wb.get_account_id()\n",
    "        account_type = wb.get_account_type(os.getenv(\"LOGIN\"))\n",
    "        print('-----------------------------------')\n",
    "        print('>>>>>>   Log in successful   <<<<<<')\n",
    "        print(f'>>>   Your login ID: {account_id}   <<<')\n",
    "        print(f'>>>   Your account type ID: {account_type}   <<<')\n",
    "    else:\n",
    "        print('-----------------------------------')\n",
    "        print('>>> Log in failed, authentication failed, check info below: ')\n",
    "        print(login_result)\n",
    "        return None\n",
    "\n",
    "    # Attempt to enable trading\n",
    "    print('-----------------------------------')\n",
    "    print('>>> Enable trading requested <<<')\n",
    "    if wb.get_trade_token(os.getenv(\"PID\")):\n",
    "        print('Trading enabled, authentication passed')\n",
    "    else:\n",
    "        if wb.is_logged_in():\n",
    "            print('Authentication failed, check PID again')\n",
    "        else:\n",
    "            print('Authentication failed, please log in again')\n",
    "        return None\n",
    "    return wb\n"
   ]
  },
  {
   "cell_type": "code",
   "execution_count": 56,
   "metadata": {},
   "outputs": [
    {
     "name": "stdout",
     "output_type": "stream",
     "text": [
      "-----------------------------------\n",
      ">>>>>>   Log in successful   <<<<<<\n",
      ">>>   Your login ID: 24520358   <<<\n",
      ">>>   Your account type ID: 2   <<<\n",
      "-----------------------------------\n",
      ">>> Enable trading requested <<<\n",
      "Trading enabled, authentication passed\n",
      "{'totalMarketValue': '78.00', 'usableCash': '3906.34', 'dayProfitLoss': '-1298.06'}\n",
      "[{'id': 501589381, 'accountId': 24520358, 'paperId': 1, 'ticker': {'tickerId': 1051141280, 'exchangeId': 189, 'type': 7, 'regionId': 6, 'regionCode': 'US', 'currencyId': 247, 'symbol': 'SPY250320C00567000', 'disSymbol': 'SPY250320C00567000', 'disExchangeCode': 'OPRA', 'exchangeCode': 'OPRA', 'listStatus': 0, 'subType': 901, 'optionSymbol': 'SPY', 'belongTickerId': 913243251}, 'status': 1, 'position': '4', 'cost': '66', 'costPrice': '0.1650', 'lastPrice': '0.0200', 'marketValue': '8.00', 'marketValueNoScale': 8.0, 'unrealizedProfitLoss': '-58.00', 'unrealizedProfitLossRate': '-0.8788', 'tickerType': 'OPTION', 'optionType': 'call', 'optionExpireDate': '2025-03-20', 'optionContractMultiplier': 100.0, 'optionExercisePrice': 567.0, 'belongTickerId': 913243251}, {'id': 501567082, 'accountId': 24520358, 'paperId': 1, 'ticker': {'tickerId': 1051182302, 'exchangeId': 189, 'type': 7, 'regionId': 6, 'regionCode': 'US', 'currencyId': 247, 'symbol': 'SPY250320C00570000', 'disSymbol': 'SPY250320C00570000', 'disExchangeCode': 'OPRA', 'exchangeCode': 'OPRA', 'listStatus': 0, 'subType': 901, 'optionSymbol': 'SPY', 'belongTickerId': 913243251}, 'status': 1, 'position': '70', 'cost': '1309.7', 'costPrice': '0.1871', 'lastPrice': '0.0100', 'marketValue': '70.00', 'marketValueNoScale': 70.0, 'unrealizedProfitLoss': '-1239.70', 'unrealizedProfitLossRate': '-0.9466', 'tickerType': 'OPTION', 'optionType': 'call', 'optionExpireDate': '2025-03-20', 'optionContractMultiplier': 100.0, 'optionExercisePrice': 570.0, 'belongTickerId': 913243251}]\n"
     ]
    }
   ],
   "source": [
    "load_dotenv()\n",
    "wb = loginWebull()\n",
    "print(wb.get_portfolio())\n",
    "print(wb.get_positions())\n"
   ]
  },
  {
   "cell_type": "code",
   "execution_count": 57,
   "metadata": {},
   "outputs": [
    {
     "name": "stdout",
     "output_type": "stream",
     "text": [
      "{'orderId': 202300171}\n",
      "{'totalMarketValue': '78.00', 'usableCash': '3285.98', 'dayProfitLoss': '-1298.06'}\n",
      "[{'id': 501589381, 'accountId': 24520358, 'paperId': 1, 'ticker': {'tickerId': 1051141280, 'exchangeId': 189, 'type': 7, 'regionId': 6, 'regionCode': 'US', 'currencyId': 247, 'symbol': 'SPY250320C00567000', 'disSymbol': 'SPY250320C00567000', 'disExchangeCode': 'OPRA', 'exchangeCode': 'OPRA', 'listStatus': 0, 'subType': 901, 'optionSymbol': 'SPY', 'belongTickerId': 913243251}, 'status': 1, 'position': '4', 'cost': '66', 'costPrice': '0.1650', 'lastPrice': '0.0200', 'marketValue': '8.00', 'marketValueNoScale': 8.0, 'unrealizedProfitLoss': '-58.00', 'unrealizedProfitLossRate': '-0.8788', 'tickerType': 'OPTION', 'optionType': 'call', 'optionExpireDate': '2025-03-20', 'optionContractMultiplier': 100.0, 'optionExercisePrice': 567.0, 'belongTickerId': 913243251}, {'id': 501567082, 'accountId': 24520358, 'paperId': 1, 'ticker': {'tickerId': 1051182302, 'exchangeId': 189, 'type': 7, 'regionId': 6, 'regionCode': 'US', 'currencyId': 247, 'symbol': 'SPY250320C00570000', 'disSymbol': 'SPY250320C00570000', 'disExchangeCode': 'OPRA', 'exchangeCode': 'OPRA', 'listStatus': 0, 'subType': 901, 'optionSymbol': 'SPY', 'belongTickerId': 913243251}, 'status': 1, 'position': '70', 'cost': '1309.7', 'costPrice': '0.1871', 'lastPrice': '0.0100', 'marketValue': '70.00', 'marketValueNoScale': 70.0, 'unrealizedProfitLoss': '-1239.70', 'unrealizedProfitLossRate': '-0.9466', 'tickerType': 'OPTION', 'optionType': 'call', 'optionExpireDate': '2025-03-20', 'optionContractMultiplier': 100.0, 'optionExercisePrice': 570.0, 'belongTickerId': 913243251}]\n"
     ]
    }
   ],
   "source": [
    "print(wb.place_order(stock='SPY', action='BUY', orderType='MKT', enforce='DAY', quant=1, outsideRegularTradingHour=True))\n",
    "time.sleep(10)\n",
    "print(wb.get_portfolio())\n",
    "print(wb.get_positions())"
   ]
  },
  {
   "cell_type": "code",
   "execution_count": 58,
   "metadata": {},
   "outputs": [],
   "source": [
    "def paper_place_order_option(wb, optionId=None, lmtPrice=None, stpPrice= None, action=None, orderType='LMT', enforce='DAY', quant=0 ):\n",
    "    '''\n",
    "        create buy / sell order\n",
    "        optionId: int\n",
    "        lmtPrice: float\n",
    "        stpPrice: float\n",
    "        action: string BUY / SELL\n",
    "        orderType: MKT / LMT / STP / STP LMT\n",
    "        enforce: GTC / DAY\n",
    "        quant: int\n",
    "    '''\n",
    "\n",
    "    # Paper trading URL\n",
    "    url = \"https://act.webullfintech.com/webull-paper-center/api/paper/v1/order/optionPlace\"\n",
    "\n",
    "    # Request headers\n",
    "    headers = wb.build_req_headers(include_trade_token=True, include_time=True)\n",
    "\n",
    "    # Account details\n",
    "    account_id = wb._account_id\n",
    "\n",
    "    # Request payload\n",
    "    data = {\n",
    "        \"accountId\": account_id,\n",
    "        \"orderType\": orderType,\n",
    "        \"timeInForce\": enforce,\n",
    "        \"quantity\": quant,\n",
    "        \"action\": action,\n",
    "        \"tickerId\": optionId,\n",
    "        \"orders\": [\n",
    "            {\n",
    "                \"action\": action,\n",
    "                \"quantity\": quant,\n",
    "                \"tickerId\": optionId,\n",
    "                \"tickerType\": \"OPTION\"\n",
    "            }\n",
    "        ],\n",
    "        \"checkOrPlace\": \"PLACE\",\n",
    "        \"paperId\": 1,\n",
    "        \"tickerType\": \"OPTION\",\n",
    "        \"optionStrategy\": \"Single\",\n",
    "    }\n",
    "    if orderType == 'LMT' and lmtPrice :\n",
    "        data['lmtPrice'] = float(lmtPrice)\n",
    "    elif orderType == 'STP' and stpPrice :\n",
    "        data['auxPrice'] = float(stpPrice)\n",
    "    elif orderType == 'STP LMT' and lmtPrice and stpPrice :\n",
    "        data['lmtPrice'] = float(lmtPrice)\n",
    "        data['auxPrice'] = float(stpPrice)\n",
    "        \n",
    "    response = requests.post(url, json=data, headers=headers, timeout=wb.timeout)\n",
    "    if response.status_code != 200:\n",
    "        raise Exception('place_option_order failed', response.status_code, response.reason)\n",
    "    return response.json()"
   ]
  },
  {
   "cell_type": "code",
   "execution_count": 59,
   "metadata": {},
   "outputs": [],
   "source": [
    "# Calculate Option Strike to Buy (Just slight OTM)\n",
    "stock_info = wb.get_quote(\"SPY\")\n",
    "\n",
    "best_bid_price = float(stock_info['bidList'][0]['price'])\n",
    "best_bid_volume = float(stock_info['bidList'][0]['volume'])\n",
    "best_ask_price = float(stock_info['askList'][0]['price'])\n",
    "best_ask_volume = float(stock_info['askList'][0]['volume'])\n",
    "\n",
    "current_price = (best_bid_price * best_bid_volume + best_ask_price * best_ask_volume) / (best_bid_volume + best_ask_volume)\n",
    "strike_price = str(math.ceil(current_price))\n"
   ]
  },
  {
   "cell_type": "code",
   "execution_count": 60,
   "metadata": {},
   "outputs": [],
   "source": [
    "# Get Date for Option to Buy (ODTE)\n",
    "today = date.today()\n",
    "formatted_date = today.strftime(\"%Y-%m-%d\")  # Year-month-day\n",
    "\n",
    "# Get Option Ticker for Given Strike\n",
    "options = wb.get_options_by_strike_and_expire_date(stock='SPY', expireDate=formatted_date,strike=strike_price, direction='call')\n",
    "tickerId = options[0]['call']['tickerId']"
   ]
  },
  {
   "cell_type": "code",
   "execution_count": null,
   "metadata": {},
   "outputs": [
    {
     "name": "stdout",
     "output_type": "stream",
     "text": [
      "{'success': True, 'orderId': '202300184'}\n"
     ]
    }
   ],
   "source": [
    "print(paper_place_order_option(wb, optionId = tickerId, action='BUY',orderType='MKT', enforce='DAY', quant=1))"
   ]
  },
  {
   "cell_type": "code",
   "execution_count": 75,
   "metadata": {},
   "outputs": [
    {
     "ename": "Exception",
     "evalue": "('alerts_add failed', 417, '')",
     "output_type": "error",
     "traceback": [
      "\u001b[31m---------------------------------------------------------------------------\u001b[39m",
      "\u001b[31mException\u001b[39m                                 Traceback (most recent call last)",
      "\u001b[36mCell\u001b[39m\u001b[36m \u001b[39m\u001b[32mIn[75]\u001b[39m\u001b[32m, line 1\u001b[39m\n\u001b[32m----> \u001b[39m\u001b[32m1\u001b[39m \u001b[38;5;28mprint\u001b[39m(\u001b[43mwb\u001b[49m\u001b[43m.\u001b[49m\u001b[43malerts_add\u001b[49m\u001b[43m(\u001b[49m\u001b[33;43m\"\u001b[39;49m\u001b[33;43mSPY\u001b[39;49m\u001b[33;43m\"\u001b[39;49m\u001b[43m)\u001b[49m)\n",
      "\u001b[36mFile \u001b[39m\u001b[32mc:\\Users\\jaydo\\OneDrive\\Documents\\CS\\ForFunAndProjects\\WebullTradingBot\\.venv\\Lib\\site-packages\\webull\\webull.py:1000\u001b[39m, in \u001b[36mwebull.alerts_add\u001b[39m\u001b[34m(self, stock, frequency, interval, priceRules, smartRules)\u001b[39m\n\u001b[32m    998\u001b[39m response = requests.post(\u001b[38;5;28mself\u001b[39m._urls.add_alert(), json=data, headers=headers, timeout=\u001b[38;5;28mself\u001b[39m.timeout)\n\u001b[32m    999\u001b[39m \u001b[38;5;28;01mif\u001b[39;00m response.status_code != \u001b[32m200\u001b[39m:\n\u001b[32m-> \u001b[39m\u001b[32m1000\u001b[39m     \u001b[38;5;28;01mraise\u001b[39;00m \u001b[38;5;167;01mException\u001b[39;00m(\u001b[33m'\u001b[39m\u001b[33malerts_add failed\u001b[39m\u001b[33m'\u001b[39m, response.status_code, response.reason)\n\u001b[32m   1001\u001b[39m \u001b[38;5;28;01mreturn\u001b[39;00m \u001b[38;5;28;01mTrue\u001b[39;00m\n",
      "\u001b[31mException\u001b[39m: ('alerts_add failed', 417, '')"
     ]
    }
   ],
   "source": [
    "print(wb.alerts_add(\"SPY\"))"
   ]
  }
 ],
 "metadata": {
  "kernelspec": {
   "display_name": ".venv",
   "language": "python",
   "name": "python3"
  },
  "language_info": {
   "codemirror_mode": {
    "name": "ipython",
    "version": 3
   },
   "file_extension": ".py",
   "mimetype": "text/x-python",
   "name": "python",
   "nbconvert_exporter": "python",
   "pygments_lexer": "ipython3",
   "version": "3.12.8"
  }
 },
 "nbformat": 4,
 "nbformat_minor": 2
}
